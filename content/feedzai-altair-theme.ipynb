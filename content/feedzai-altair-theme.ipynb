{
 "cells": [
  {
   "cell_type": "markdown",
   "id": "74174d37-d012-4b74-afe1-161da7880edf",
   "metadata": {},
   "source": [
    "# feedzai-altair-theme"
   ]
  },
  {
   "cell_type": "code",
   "execution_count": null,
   "id": "577310e2-27e1-4232-9186-2e0f3f97fcab",
   "metadata": {},
   "outputs": [],
   "source": [
    "%pip install -q altair==4.2.0 vega-datasets==0.9.0 feedzai-altair-theme==1.1.1"
   ]
  },
  {
   "cell_type": "markdown",
   "id": "44896950-b8da-442d-aea4-02afa830ddd3",
   "metadata": {},
   "source": [
    "---"
   ]
  },
  {
   "cell_type": "code",
   "execution_count": null,
   "id": "d43c4ae1-7938-4dc3-8efd-3322052d2874",
   "metadata": {},
   "outputs": [],
   "source": [
    "import altair as alt\n",
    "import pandas as pd\n",
    "from vega_datasets import data"
   ]
  },
  {
   "cell_type": "code",
   "execution_count": null,
   "id": "27ff02cf-43f3-4e05-9df9-75b8891e83f9",
   "metadata": {},
   "outputs": [],
   "source": [
    "print(alt.__version__, pd.__version__, sep=\" | \")"
   ]
  },
  {
   "cell_type": "code",
   "execution_count": null,
   "id": "f500b1e1-87b0-4bf3-b86f-39b10a5c7be4",
   "metadata": {},
   "outputs": [],
   "source": [
    "alt.themes.enable(\"feedzai\")"
   ]
  },
  {
   "cell_type": "markdown",
   "id": "0bc7b46b-01d4-4098-8926-1073e6274b14",
   "metadata": {},
   "source": [
    "---"
   ]
  },
  {
   "cell_type": "markdown",
   "id": "b1dec454-7f94-4bda-8d32-19198e916a4d",
   "metadata": {},
   "source": [
    "## Simple Bar Chart"
   ]
  },
  {
   "cell_type": "markdown",
   "id": "ca4912b6-7918-47e4-bf89-23f5bbaaf5e0",
   "metadata": {},
   "source": [
    "> [Source](https://altair-viz.github.io/gallery/simple_bar_chart.html)"
   ]
  },
  {
   "cell_type": "code",
   "execution_count": null,
   "id": "76da9d7b-4033-4d28-9cf1-d0af7155d67c",
   "metadata": {},
   "outputs": [],
   "source": [
    "source = pd.DataFrame(\n",
    "    {\n",
    "        \"a\": [\"A\", \"B\", \"C\", \"D\", \"E\", \"F\", \"G\", \"H\", \"I\"],\n",
    "        \"b\": [28, 55, 43, 91, 81, 53, 19, 87, 52],\n",
    "    }\n",
    ")\n",
    "\n",
    "alt.Chart(source).mark_bar().encode(x=\"a\", y=\"b\")"
   ]
  },
  {
   "cell_type": "markdown",
   "id": "62588beb-caad-4643-bcc0-10840f8ca1a7",
   "metadata": {},
   "source": [
    "## Simple Stacked Area Chart"
   ]
  },
  {
   "cell_type": "markdown",
   "id": "c3cf1a02-0b10-4ed9-b0e9-83028f33e591",
   "metadata": {},
   "source": [
    "> [Source](https://altair-viz.github.io/gallery/simple_stacked_area_chart.html)"
   ]
  },
  {
   "cell_type": "code",
   "execution_count": null,
   "id": "c694c34b-651a-4412-ab3a-27d32315d45a",
   "metadata": {},
   "outputs": [],
   "source": [
    "source = data.iowa_electricity()\n",
    "\n",
    "alt.Chart(source).mark_area().encode(x=\"year:T\", y=\"net_generation:Q\", color=\"source:N\")"
   ]
  },
  {
   "cell_type": "markdown",
   "id": "e715d127-f889-4e12-a7be-e2a3452f1651",
   "metadata": {},
   "source": [
    "---"
   ]
  }
 ],
 "metadata": {
  "kernelspec": {
   "display_name": "Python 3 (ipykernel)",
   "language": "python",
   "name": "python3"
  },
  "language_info": {
   "codemirror_mode": {
    "name": "ipython",
    "version": 3
   },
   "file_extension": ".py",
   "mimetype": "text/x-python",
   "name": "python",
   "nbconvert_exporter": "python",
   "pygments_lexer": "ipython3",
   "version": "3.7.12"
  }
 },
 "nbformat": 4,
 "nbformat_minor": 5
}
